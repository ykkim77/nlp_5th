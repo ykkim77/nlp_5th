{
  "nbformat": 4,
  "nbformat_minor": 0,
  "metadata": {
    "colab": {
      "name": "word2vec.ipynb",
      "provenance": [],
      "collapsed_sections": [],
      "include_colab_link": true
    },
    "kernelspec": {
      "name": "python3",
      "display_name": "Python 3"
    },
    "language_info": {
      "name": "python"
    }
  },
  "cells": [
    {
      "cell_type": "markdown",
      "metadata": {
        "id": "view-in-github",
        "colab_type": "text"
      },
      "source": [
        "<a href=\"https://colab.research.google.com/github/ykkim77/nlp_5th/blob/main/word2vec.ipynb\" target=\"_parent\"><img src=\"https://colab.research.google.com/assets/colab-badge.svg\" alt=\"Open In Colab\"/></a>"
      ]
    },
    {
      "cell_type": "markdown",
      "metadata": {
        "id": "yWAWvYGWpRuf"
      },
      "source": [
        "**Word2Vec 만들기**  <br> 출처 : https://wikidocs.net/50739"
      ]
    },
    {
      "cell_type": "code",
      "metadata": {
        "id": "ak0keKATiZ0R",
        "colab": {
          "base_uri": "https://localhost:8080/"
        },
        "outputId": "5fec9893-ec7b-4843-914e-2e3461660d78"
      },
      "source": [
        "import nltk\n",
        "nltk.download('punkt')\n",
        "import urllib.request\n",
        "import zipfile\n",
        "from lxml import etree\n",
        "import re\n",
        "from nltk.tokenize import word_tokenize, sent_tokenize"
      ],
      "execution_count": null,
      "outputs": [
        {
          "output_type": "stream",
          "text": [
            "[nltk_data] Downloading package punkt to /root/nltk_data...\n",
            "[nltk_data]   Unzipping tokenizers/punkt.zip.\n"
          ],
          "name": "stdout"
        }
      ]
    },
    {
      "cell_type": "markdown",
      "metadata": {
        "id": "lEZu90XEpV_0"
      },
      "source": [
        "**훈련 데이터 가져오기**"
      ]
    },
    {
      "cell_type": "code",
      "metadata": {
        "id": "Nuff-TaTiicI",
        "colab": {
          "base_uri": "https://localhost:8080/"
        },
        "outputId": "f54995c2-e07d-4cf1-a0d8-079999e8806b"
      },
      "source": [
        "# 데이터 다운로드\n",
        "urllib.request.urlretrieve(\"https://raw.githubusercontent.com/GaoleMeng/RNN-and-FFNN-textClassification/master/ted_en-20160408.xml\", filename=\"ted_en-20160408.xml\")\n",
        "!ls\n",
        "\n",
        "!tail -500 ted_en-20160408.xml\n"
      ],
      "execution_count": null,
      "outputs": [
        {
          "output_type": "stream",
          "text": [
            "sample_data  ted_en-20160408.xml\n",
            "(Laughter)\n",
            "I write the code that makes the whole world run. I'm getting royalties from everyone. Sometimes it's garbage, but the press is snowed. You buy the box; I'll sell the code. Every software company is doing Microsoft's R&amp;D. You can't keep a good idea down these days. Even Windows is a hack. We're kind of based loosely on the Mac. So it's big, so it's slow. You've got nowhere to go. I'm not doing this for praise. I write the code that fits the world today. Big mediocrity in every way. We've entered planet domination mode. You'll have no choice; you'll buy my code. I am Bill Gates and I write the code.\n",
            "(Applause)\n",
            "But actually, I believe there are really two Microsofts. There's the old one, responsible for Windows and Office. They're dying to throw the whole thing out and start fresh, but they can't. They're locked in, because so many add-ons and other company stuff locks into the old 1982 chassis. But there's also a new Microsoft, that's really doing good, simple interface designs. I liked the Media Center PC. I liked the Microsoft SPOT Watch. The Wireless Watch flopped miserably in the market, but it wasn't because it wasn't simply and beautifully designed. But let's put it this way: would you pay $10 a month to have a watch that has to be recharged every night like your cell phone, and stops working when you leave your area code?\n",
            "(Laughter)\n",
            "So, the signs might indicate that the complexity crunch is only going to get worse. So is there any hope? The screens are getting smaller, people are illuminating, putting manuals in the boxes, things are coming out at a faster pace. It's funny -- when Steve Jobs came back to Apple in 1997, after 12 years away, it was the MacWorld Expo -- he came to the stage in that black turtleneck and jeans, and he sort of did this. The crowd went wild, but I had just seen -- I'm like, where have I seen this before? I had just seen the movie \"Evita\" --\n",
            "(Laughter)\n",
            "with Madonna, and I'm like, you know what? I've got to do one about Steve Jobs.\n",
            "(Music)\n",
            "It won't be easy. You'll think I'm strange.\n",
            "(Laughter)\n",
            "When I try to explain why I'm back, after telling the press Apple's future is black. You won't believe me. All that you see is a kid in his teens who started out in a garage with only a buddy named Woz.\n",
            "(Laughter)\n",
            "You try rhyming with garage!\n",
            "(Laughter)\n",
            "Don't cry for me, Cupertino.\n",
            "(Laughter)\n",
            "The truth is, I never left you. I know the ropes now, know what the tricks are. I made a fortune over at Pixar.\n",
            "(Laughter)\n",
            "Don't cry for me, Cupertino. I've still got the drive and vision. I still wear sandals in any weather. It's just that these days, they're Gucci leather.\n",
            "(Laughter)\n",
            "(Applause)\n",
            "Thank you.\n",
            "So Steve Jobs had always believed in simplicity and elegance and beauty. And the truth is, for years I was a little depressed, because Americans obviously did not value it, because the Mac had three percent market share, Windows had 95 percent market share -- people did not think it was worth putting a price on it. So I was a little depressed. And then I heard Al Gore's talk, and I realized I didn't know the meaning of depressed.\n",
            "(Laughter)\n",
            "But it turns out I was wrong, right? Because the iPod came out, and it violated every bit of common wisdom. Other products cost less; other products had more features, they had voice recorders and FM transmitters. The other products were backed by Microsoft, with an open standard, not Apple's propriety standard. But the iPod won -- this is the one they wanted. The lesson was: simplicity sells. And there are signs that the industry is getting the message. This is a little company that's done very well with simplicity and elegance. The Sonos thing -- it's catching on.\n",
            "I've got just a couple examples. Physically, a really cool, elegant thinking coming along lately. When you have a digital camera, how do you get the pictures back to your computer? Well, you either haul around a USB cable, or you buy a card reader and haul that around. Either one, you're going to lose. What I do is, I take out the memory card, and I fold it in half, revealing USB contacts. I just stick it in the computer, offload the pictures, put it right back in the camera. I never have to lose anything. Here's another example. Chris, you're the source of all power. Will you be my power plug?\n",
            "Chris Anderson: Oh yeah. DP: Hold that and don't let go. You might've seen this, this is Apple's new laptop. This the power cord. It hooks on like this. And I'm sure every one of you has done this at some point in your lives, or one of your children. You walk along -- and I'm about to pull this onto the floor. I don't care. It's a loaner. Here we go. Whoa! It's magnetic -- it doesn't pull the laptop onto the floor.\n",
            "(Applause)\n",
            "In my very last example -- I do a lot of my work using speech recognition software. And I'll just -- you have to be kind of quiet because the software is nervous. Speech recognition software is really great for doing emails very quickly; period. Like, I get hundreds of them a day; period. And it's not just what I dictate that it writes down; period. I also use this feature called voice macros; period. Correct \"dissuade.\" Not \"just.\" Ok, this is not an ideal situation, because it's getting the echo from the hall and stuff. The point is, I can respond to people very quickly by saying a short word, and having it write out a much longer thing. So if somebody sends me a fan letter, I'll say, \"Thanks for that.\"\n",
            "[Thank you so much for taking the time to write ...]\n",
            "(Laughter)\n",
            "(Applause)\n",
            "And conversely, if somebody sends me hate mail -- which happens daily -- I say, \"Piss off.\"\n",
            "(Laughter)\n",
            "[I admire your frankness ...]\n",
            "(Laughter)\n",
            "(Applause)\n",
            "So that's my dirty little secret. Don't tell anyone.\n",
            "(Laughter)\n",
            "So the point is -- this is a really interesting story. This is version eight of this software, and do you know what they put in version eight? No new features. It's never happened before in software! The company put no new features. They just said, \"We'll make this software work right.\" Right? Because for years, people had bought this software, tried it out -- 95 percent accuracy was all they got, which means one in 20 words is wrong -- and they'd put it in their drawer. And the company got sick of that, so they said, \"This version, we're not going to do anything, but make sure it's darned accurate.\" And so that's what they did.\n",
            "This cult of doing things right is starting to spread. So, my final advice for those of you who are consumers of this technology: remember, if it doesn't work, it's not necessarily you, ok? It could be the design of the thing you're using. Be aware in life of good design and bad design. And if you're among the people who create this stuff: Easy is hard. Pre-sweat the details for your audience. Count the taps. Remember, the hard part is not deciding what features to add, it's deciding what to leave out. And best of all, your motivation is: simplicity sells.\n",
            "CA: Bravo. DP: Thank you very much.\n",
            "CA: Hear, hear!\n",
            "(Applause)</content>\n",
            "</file>\n",
            "<file id=\"2085\">\n",
            "  <head>\n",
            "    <url>http://www.ted.com/talks/majora_carter_s_tale_of_urban_renewal</url>\n",
            "    <pagesize>83251</pagesize>\n",
            "    <dtime>Thu Jan 28 17:38:06 CET 2016</dtime>\n",
            "    <encoding>UTF-8</encoding>\n",
            "    <content-type>text/html; charset=utf-8</content-type>\n",
            "    <keywords>talks, MacArthur grant, TED Conference, activism, business, cities, environment, green, inequality, politics, pollution</keywords>\n",
            "    <speaker>Majora Carter</speaker>\n",
            "    <talkid>53</talkid>\n",
            "    <videourl>http://download.ted.com/talks/MajoraCarter_2006.mp4</videourl>\n",
            "    <videopath>talks/MajoraCarter_2006.mp4</videopath>\n",
            "    <date>2006/02/26</date>\n",
            "    <title>Majora Carter: Greening the ghetto</title>\n",
            "    <description>TED Talk Subtitles and Transcript: In an emotionally charged talk, MacArthur-winning activist Majora Carter details her fight for environmental justice in the South Bronx -- and shows how minority neighborhoods suffer most from flawed urban policy.</description>\n",
            "    <transcription>\n",
            "      <seekvideo id=\"1000\">If you're here today --</seekvideo>\n",
            "      <seekvideo id=\"2430\">and I'm very happy that you are --</seekvideo>\n",
            "      <seekvideo id=\"4388\">you've all heard about how sustainable development</seekvideo>\n",
            "      <seekvideo id=\"6765\">will save us from ourselves.</seekvideo>\n",
            "      <seekvideo id=\"8751\">However, when we're not at TED, we are often told</seekvideo>\n",
            "      <seekvideo id=\"12274\">that a real sustainability policy agenda is just not feasible,</seekvideo>\n",
            "      <seekvideo id=\"16207\">especially in large urban areas like New York City.</seekvideo>\n",
            "      <seekvideo id=\"19429\">And that's because most people with decision-making powers,</seekvideo>\n",
            "      <seekvideo id=\"22689\">in both the public and the private sector,</seekvideo>\n",
            "      <seekvideo id=\"24943\">really don't feel as though they're in danger.</seekvideo>\n",
            "      <seekvideo id=\"27578\">The reason why I'm here today, in part, is because of a dog --</seekvideo>\n",
            "      <seekvideo id=\"31695\">an abandoned puppy I found back in the rain, back in 1998.</seekvideo>\n",
            "      <seekvideo id=\"34997\">She turned out to be a much bigger dog than I'd anticipated.</seekvideo>\n",
            "      <seekvideo id=\"38431\">When she came into my life, we were fighting against a huge waste facility</seekvideo>\n",
            "      <seekvideo id=\"42430\">planned for the East River waterfront</seekvideo>\n",
            "      <seekvideo id=\"44916\">despite the fact that our small part of New York City</seekvideo>\n",
            "      <seekvideo id=\"47450\">already handled more than 40 percent of the entire city's commercial waste:</seekvideo>\n",
            "      <seekvideo id=\"51832\">a sewage treatment pelletizing plant, a sewage sludge plant, four power plants,</seekvideo>\n",
            "      <seekvideo id=\"57000\">the world's largest food-distribution center,</seekvideo>\n",
            "      <seekvideo id=\"59359\">as well as other industries that bring more than 60,000 diesel truck trips</seekvideo>\n",
            "      <seekvideo id=\"63565\">to the area each week.</seekvideo>\n",
            "      <seekvideo id=\"65118\">The area also has one of the lowest ratios of parks to people in the city.</seekvideo>\n",
            "      <seekvideo id=\"69110\">So when I was contacted by the Parks Department</seekvideo>\n",
            "      <seekvideo id=\"71427\">about a $10,000 seed-grant initiative to help develop waterfront projects,</seekvideo>\n",
            "      <seekvideo id=\"75609\">I thought they were really well-meaning, but a bit naive.</seekvideo>\n",
            "      <seekvideo id=\"78547\">I'd lived in this area all my life, and you could not get to the river,</seekvideo>\n",
            "      <seekvideo id=\"82238\">because of all the lovely facilities that I mentioned earlier.</seekvideo>\n",
            "      <seekvideo id=\"85555\">Then, while jogging with my dog one morning,</seekvideo>\n",
            "      <seekvideo id=\"87839\">she pulled me into what I thought was just another illegal dump.</seekvideo>\n",
            "      <seekvideo id=\"91606\">There were weeds and piles of garbage and other stuff that I won't mention here,</seekvideo>\n",
            "      <seekvideo id=\"95407\">but she kept dragging me,</seekvideo>\n",
            "      <seekvideo id=\"96645\">and lo and behold, at the end of that lot was the river.</seekvideo>\n",
            "      <seekvideo id=\"99541\">I knew that this forgotten little street-end,</seekvideo>\n",
            "      <seekvideo id=\"101666\">abandoned like the dog that brought me there, was worth saving.</seekvideo>\n",
            "      <seekvideo id=\"104694\">And I knew it would grow to become the proud beginnings</seekvideo>\n",
            "      <seekvideo id=\"107314\">of the community-led revitalization of the new South Bronx.</seekvideo>\n",
            "      <seekvideo id=\"110322\">And just like my new dog, it was an idea that got bigger than I'd imagined.</seekvideo>\n",
            "      <seekvideo id=\"114325\">We garnered much support along the way,</seekvideo>\n",
            "      <seekvideo id=\"116484\">and the Hunts Point Riverside Park became the first waterfront park</seekvideo>\n",
            "      <seekvideo id=\"119668\">that the South Bronx had had in more than 60 years.</seekvideo>\n",
            "      <seekvideo id=\"122091\">We leveraged that $10,000 seed grant more than 300 times,</seekvideo>\n",
            "      <seekvideo id=\"125481\">into a $3 million park.</seekvideo>\n",
            "      <seekvideo id=\"127745\">And in the fall, I'm going to exchange marriage vows with my beloved.</seekvideo>\n",
            "      <seekvideo id=\"132697\">(Audience whistles)</seekvideo>\n",
            "      <seekvideo id=\"133721\">Thank you very much.</seekvideo>\n",
            "      <seekvideo id=\"135013\">(Applause)</seekvideo>\n",
            "      <seekvideo id=\"139579\">That's him pressing my buttons back there, which he does all the time.</seekvideo>\n",
            "      <seekvideo id=\"143000\">(Laughter)</seekvideo>\n",
            "      <seekvideo id=\"145488\">(Applause)</seekvideo>\n",
            "      <seekvideo id=\"148829\">But those of us living in environmental justice communities</seekvideo>\n",
            "      <seekvideo id=\"151631\">are the canary in the coal mine.</seekvideo>\n",
            "      <seekvideo id=\"153210\">We feel the problems right now, and have for some time.</seekvideo>\n",
            "      <seekvideo id=\"157290\">Environmental justice, for those of you who may not be familiar with the term,</seekvideo>\n",
            "      <seekvideo id=\"161000\">goes something like this:</seekvideo>\n",
            "      <seekvideo id=\"162224\">no community should be saddled with more environmental burdens</seekvideo>\n",
            "      <seekvideo id=\"165239\">and less environmental benefits than any other.</seekvideo>\n",
            "      <seekvideo id=\"167929\">Unfortunately, race and class are extremely reliable indicators</seekvideo>\n",
            "      <seekvideo id=\"172000\">as to where one might find the good stuff, like parks and trees,</seekvideo>\n",
            "      <seekvideo id=\"175061\">and where one might find the bad stuff, like power plants and waste facilities.</seekvideo>\n",
            "      <seekvideo id=\"178817\">As a black person in America, I am twice as likely as a white person</seekvideo>\n",
            "      <seekvideo id=\"182076\">to live in an area where air pollution poses the greatest risk to my health.</seekvideo>\n",
            "      <seekvideo id=\"185697\">I am five times more likely to live within walking distance</seekvideo>\n",
            "      <seekvideo id=\"188504\">of a power plant or chemical facility,</seekvideo>\n",
            "      <seekvideo id=\"190437\">which I do.</seekvideo>\n",
            "      <seekvideo id=\"192149\">These land-use decisions created the hostile conditions</seekvideo>\n",
            "      <seekvideo id=\"194804\">that lead to problems like obesity, diabetes and asthma.</seekvideo>\n",
            "      <seekvideo id=\"197820\">Why would someone leave their home to go for a brisk walk in a toxic neighborhood?</seekvideo>\n",
            "      <seekvideo id=\"201745\">Our 27 percent obesity rate is high even for this country,</seekvideo>\n",
            "      <seekvideo id=\"204680\">and diabetes comes with it.</seekvideo>\n",
            "      <seekvideo id=\"206117\">One out of four South Bronx children has asthma.</seekvideo>\n",
            "      <seekvideo id=\"208649\">Our asthma hospitalization rate</seekvideo>\n",
            "      <seekvideo id=\"210488\">is seven times higher than the national average.</seekvideo>\n",
            "      <seekvideo id=\"212795\">These impacts are coming everyone's way.</seekvideo>\n",
            "      <seekvideo id=\"214770\">And we all pay dearly for solid waste costs,</seekvideo>\n",
            "      <seekvideo id=\"217000\">health problems associated with pollution and more odiously,</seekvideo>\n",
            "      <seekvideo id=\"220000\">the cost of imprisoning our young black and Latino men,</seekvideo>\n",
            "      <seekvideo id=\"223013\">who possess untold amounts of untapped potential.</seekvideo>\n",
            "      <seekvideo id=\"225792\">Fifty percent of our residents live at or below the poverty line;</seekvideo>\n",
            "      <seekvideo id=\"228896\">25 percent of us are unemployed.</seekvideo>\n",
            "      <seekvideo id=\"230675\">Low-income citizens often use emergency-room visits as primary care.</seekvideo>\n",
            "      <seekvideo id=\"234722\">This comes at a high cost to taxpayers and produces no proportional benefits.</seekvideo>\n",
            "      <seekvideo id=\"238645\">Poor people are not only still poor, they are still unhealthy.</seekvideo>\n",
            "      <seekvideo id=\"242512\">Fortunately, there are many people like me who are striving for solutions</seekvideo>\n",
            "      <seekvideo id=\"246321\">that won't compromise the lives</seekvideo>\n",
            "      <seekvideo id=\"247845\">of low-income communities of color in the short term,</seekvideo>\n",
            "      <seekvideo id=\"250369\">and won't destroy us all in the long term.</seekvideo>\n",
            "      <seekvideo id=\"252499\">None of us want that, and we all have that in common.</seekvideo>\n",
            "      <seekvideo id=\"255009\">So what else do we have in common?</seekvideo>\n",
            "      <seekvideo id=\"256672\">Well, first of all, we're all incredibly good-looking.</seekvideo>\n",
            "      <seekvideo id=\"259474\">(Laughter)</seekvideo>\n",
            "      <seekvideo id=\"260685\">Graduated high school, college, post-graduate degrees,</seekvideo>\n",
            "      <seekvideo id=\"263496\">traveled to interesting places, didn't have kids in your early teens,</seekvideo>\n",
            "      <seekvideo id=\"266832\">financially stable, never been imprisoned.</seekvideo>\n",
            "      <seekvideo id=\"270688\">OK. Good.</seekvideo>\n",
            "      <seekvideo id=\"271872\">(Laughter)</seekvideo>\n",
            "      <seekvideo id=\"273235\">But, besides being a black woman,</seekvideo>\n",
            "      <seekvideo id=\"274866\">I am different from most of you in some other ways.</seekvideo>\n",
            "      <seekvideo id=\"277552\">I watched nearly half of the buildings in my neighborhood burn down.</seekvideo>\n",
            "      <seekvideo id=\"280967\">My big brother Lenny fought in Vietnam,</seekvideo>\n",
            "      <seekvideo id=\"282954\">only to be gunned down a few blocks from our home.</seekvideo>\n",
            "      <seekvideo id=\"288992\">Jesus.</seekvideo>\n",
            "      <seekvideo id=\"290271\">I grew up with a crack house across the street.</seekvideo>\n",
            "      <seekvideo id=\"294796\">Yeah, I'm a poor black child from the ghetto.</seekvideo>\n",
            "      <seekvideo id=\"298784\">These things make me different from you.</seekvideo>\n",
            "      <seekvideo id=\"300975\">But the things we have in common</seekvideo>\n",
            "      <seekvideo id=\"302862\">set me apart from most of the people in my community,</seekvideo>\n",
            "      <seekvideo id=\"305625\">and I am in between these two worlds</seekvideo>\n",
            "      <seekvideo id=\"307475\">with enough of my heart to fight for justice in the other.</seekvideo>\n",
            "      <seekvideo id=\"311315\">So how did things get so different for us?</seekvideo>\n",
            "      <seekvideo id=\"313347\">In the late '40s, my dad -- a Pullman porter, son of a slave --</seekvideo>\n",
            "      <seekvideo id=\"316702\">bought a house in the Hunts Point section of the South Bronx,</seekvideo>\n",
            "      <seekvideo id=\"319593\">and a few years later, he married my mom.</seekvideo>\n",
            "      <seekvideo id=\"321632\">At the time, the community was a mostly white, working-class neighborhood.</seekvideo>\n",
            "      <seekvideo id=\"325137\">My dad was not alone.</seekvideo>\n",
            "      <seekvideo id=\"326687\">And as others like him pursued their own version of the American dream,</seekvideo>\n",
            "      <seekvideo id=\"330148\">white flight became common in the South Bronx</seekvideo>\n",
            "      <seekvideo id=\"332701\">and in many cities around the country.</seekvideo>\n",
            "      <seekvideo id=\"335018\">Red-lining was used by banks, wherein certain sections of the city,</seekvideo>\n",
            "      <seekvideo id=\"338675\">including ours, were deemed off-limits to any sort of investment.</seekvideo>\n",
            "      <seekvideo id=\"342688\">Many landlords believed it was more profitable to torch their buildings</seekvideo>\n",
            "      <seekvideo id=\"346180\">and collect insurance money rather than to sell under those conditions --</seekvideo>\n",
            "      <seekvideo id=\"350375\">dead or injured former tenants notwithstanding.</seekvideo>\n",
            "      <seekvideo id=\"352839\">Hunts Point was formerly a walk-to-work community,</seekvideo>\n",
            "      <seekvideo id=\"355705\">but now residents had neither work nor home to walk to.</seekvideo>\n",
            "      <seekvideo id=\"359655\">A national highway construction boom was added to our problems.</seekvideo>\n",
            "      <seekvideo id=\"362865\">In New York State,</seekvideo>\n",
            "      <seekvideo id=\"364040\">Robert Moses spearheaded an aggressive highway-expansion campaign.</seekvideo>\n",
            "      <seekvideo id=\"367847\">One of its primary goals was to make it easier</seekvideo>\n",
            "      <seekvideo id=\"370067\">for residents of wealthy communities in Westchester County to go to Manhattan.</seekvideo>\n",
            "      <seekvideo id=\"375116\">The South Bronx, which lies in between, did not stand a chance.</seekvideo>\n",
            "      <seekvideo id=\"378215\">Residents were often given less than a month's notice</seekvideo>\n",
            "      <seekvideo id=\"380789\">before their buildings were razed.</seekvideo>\n",
            "      <seekvideo id=\"382443\">600,000 people were displaced.</seekvideo>\n",
            "      <seekvideo id=\"384791\">The common perception was</seekvideo>\n",
            "      <seekvideo id=\"386125\">that only pimps and pushers and prostitutes were from the South Bronx.</seekvideo>\n",
            "      <seekvideo id=\"390000\">And if you are told from your earliest days</seekvideo>\n",
            "      <seekvideo id=\"392954\">that nothing good is going to come from your community,</seekvideo>\n",
            "      <seekvideo id=\"395595\">that it's bad and ugly,</seekvideo>\n",
            "      <seekvideo id=\"396770\">how could it not reflect on you?</seekvideo>\n",
            "      <seekvideo id=\"399335\">So now, my family's property was worthless,</seekvideo>\n",
            "      <seekvideo id=\"401877\">save for that it was our home, and all we had.</seekvideo>\n",
            "      <seekvideo id=\"404543\">And luckily for me, that home and the love inside of it,</seekvideo>\n",
            "      <seekvideo id=\"408293\">along with help from teachers, mentors and friends along the way, was enough.</seekvideo>\n",
            "      <seekvideo id=\"413459\">Now, why is this story important?</seekvideo>\n",
            "      <seekvideo id=\"415172\">Because from a planning perspective,</seekvideo>\n",
            "      <seekvideo id=\"417006\">economic degradation begets environmental degradation,</seekvideo>\n",
            "      <seekvideo id=\"420747\">which begets social degradation.</seekvideo>\n",
            "      <seekvideo id=\"423287\">The disinvestment that began in the 1960s set the stage</seekvideo>\n",
            "      <seekvideo id=\"426374\">for all the environmental injustices that were to come.</seekvideo>\n",
            "      <seekvideo id=\"429000\">Antiquated zoning and land-use regulations are still used to this day</seekvideo>\n",
            "      <seekvideo id=\"433000\">to continue putting polluting facilities in my neighborhood.</seekvideo>\n",
            "      <seekvideo id=\"436067\">Are these factors taken into consideration when land-use policy is decided?</seekvideo>\n",
            "      <seekvideo id=\"439869\">What costs are associated with these decisions?</seekvideo>\n",
            "      <seekvideo id=\"442489\">And who pays? Who profits?</seekvideo>\n",
            "      <seekvideo id=\"444749\">Does anything justify what the local community goes through?</seekvideo>\n",
            "      <seekvideo id=\"448392\">This was \"planning\" -- in quotes --</seekvideo>\n",
            "      <seekvideo id=\"450710\">that did not have our best interests in mind.</seekvideo>\n",
            "      <seekvideo id=\"453002\">Once we realized that, we decided it was time to do our own planning.</seekvideo>\n",
            "      <seekvideo id=\"456441\">That small park I told you about earlier</seekvideo>\n",
            "      <seekvideo id=\"458409\">was the first stage of building a Greenway movement in the South Bronx.</seekvideo>\n",
            "      <seekvideo id=\"461711\">I wrote a one-and-a-quarter-million dollar federal transportation grant</seekvideo>\n",
            "      <seekvideo id=\"465087\">to design the plan for a waterfront esplanade</seekvideo>\n",
            "      <seekvideo id=\"467219\">with dedicated on-street bike paths.</seekvideo>\n",
            "      <seekvideo id=\"468973\">Physical improvements help inform public policy regarding traffic safety,</seekvideo>\n",
            "      <seekvideo id=\"472455\">the placement of the waste and other facilities,</seekvideo>\n",
            "      <seekvideo id=\"474724\">which, if done properly, don't compromise a community's quality of life.</seekvideo>\n",
            "      <seekvideo id=\"478220\">They provide opportunities to be more physically active,</seekvideo>\n",
            "      <seekvideo id=\"480958\">as well as local economic development.</seekvideo>\n",
            "      <seekvideo id=\"483415\">Think bike shops, juice stands.</seekvideo>\n",
            "      <seekvideo id=\"485011\">We secured 20 million dollars to build first-phase projects.</seekvideo>\n",
            "      <seekvideo id=\"487906\">This is Lafayette Avenue --</seekvideo>\n",
            "      <seekvideo id=\"489804\">and that's redesigned by Mathews Nielsen Landscape Architects.</seekvideo>\n",
            "      <seekvideo id=\"492985\">And once this path is constructed, it'll connect the South Bronx</seekvideo>\n",
            "      <seekvideo id=\"496030\">with more than 400 acres of Randall's Island Park.</seekvideo>\n",
            "      <seekvideo id=\"498403\">Right now we're separated by about 25 feet of water, but this link will change that.</seekvideo>\n",
            "      <seekvideo id=\"502401\">As we nurture the natural environment, its abundance will give us back even more.</seekvideo>\n",
            "      <seekvideo id=\"506689\">We run a project called the Bronx [Environmental] Stewardship Training,</seekvideo>\n",
            "      <seekvideo id=\"510524\">which provides job training in the fields of ecological restoration,</seekvideo>\n",
            "      <seekvideo id=\"513855\">so that folks from our community have the skills to compete</seekvideo>\n",
            "      <seekvideo id=\"516680\">for these well-paying jobs.</seekvideo>\n",
            "      <seekvideo id=\"518043\">Little by little, we're seeding the area with green-collar jobs --</seekvideo>\n",
            "      <seekvideo id=\"521404\">and with people that have both a financial and personal stake</seekvideo>\n",
            "      <seekvideo id=\"524287\">in their environment.</seekvideo>\n",
            "      <seekvideo id=\"525468\">The Sheridan Expressway is an underutilized relic</seekvideo>\n",
            "      <seekvideo id=\"528135\">of the Robert Moses era,</seekvideo>\n",
            "      <seekvideo id=\"529358\">built with no regard for the neighborhoods that were divided by it.</seekvideo>\n",
            "      <seekvideo id=\"532758\">Even during rush hour, it goes virtually unused.</seekvideo>\n",
            "      <seekvideo id=\"535551\">The community created an alternative transportation plan</seekvideo>\n",
            "      <seekvideo id=\"538247\">that allows for the removal of the highway.</seekvideo>\n",
            "      <seekvideo id=\"540897\">We have the opportunity now to bring together all the stakeholders</seekvideo>\n",
            "      <seekvideo id=\"544044\">to re-envision how this 28 acres can be better utilized</seekvideo>\n",
            "      <seekvideo id=\"546656\">for parkland, affordable housing and local economic development.</seekvideo>\n",
            "      <seekvideo id=\"549722\">We also built New York City's first green and cool roof demonstration project</seekvideo>\n",
            "      <seekvideo id=\"554573\">on top of our offices.</seekvideo>\n",
            "      <seekvideo id=\"555985\">Cool roofs are highly-reflective surfaces that don't absorb solar heat,</seekvideo>\n",
            "      <seekvideo id=\"559474\">and pass it on to the building or atmosphere.</seekvideo>\n",
            "      <seekvideo id=\"561601\">Green roofs are soil and living plants.</seekvideo>\n",
            "      <seekvideo id=\"563657\">Both can be used instead of petroleum-based roofing materials</seekvideo>\n",
            "      <seekvideo id=\"566928\">that absorb heat, contribute to urban \"heat island\" effect</seekvideo>\n",
            "      <seekvideo id=\"569723\">and degrade under the sun,</seekvideo>\n",
            "      <seekvideo id=\"571072\">which we in turn breathe.</seekvideo>\n",
            "      <seekvideo id=\"572318\">Green roofs also retain up to 75 percent of rainfall,</seekvideo>\n",
            "      <seekvideo id=\"575000\">so they reduce a city's need to fund costly end-of-pipe solutions --</seekvideo>\n",
            "      <seekvideo id=\"578683\">which, incidentally, are often located</seekvideo>\n",
            "      <seekvideo id=\"580527\">in environmental justice communities like mine.</seekvideo>\n",
            "      <seekvideo id=\"582772\">And they provide habitats for our little friends!</seekvideo>\n",
            "      <seekvideo id=\"586096\">[Butterfly]</seekvideo>\n",
            "      <seekvideo id=\"587277\">(Laughter)</seekvideo>\n",
            "      <seekvideo id=\"588524\">So cool!</seekvideo>\n",
            "      <seekvideo id=\"589731\">Anyway, the demonstration project is a springboard</seekvideo>\n",
            "      <seekvideo id=\"592261\">for our own green roof installation business,</seekvideo>\n",
            "      <seekvideo id=\"594409\">bringing jobs and sustainable economic activity to the South Bronx.</seekvideo>\n",
            "      <seekvideo id=\"597935\">[Green is the new black ...]</seekvideo>\n",
            "      <seekvideo id=\"599335\">(Laughter) (Applause)</seekvideo>\n",
            "      <seekvideo id=\"603502\">I like that, too.</seekvideo>\n",
            "      <seekvideo id=\"605177\">Anyway, I know Chris told us not to do pitches up here,</seekvideo>\n",
            "      <seekvideo id=\"608897\">but since I have all of your attention:</seekvideo>\n",
            "      <seekvideo id=\"610801\">We need investors. End of pitch.</seekvideo>\n",
            "      <seekvideo id=\"612412\">It's better to ask for forgiveness than permission.</seekvideo>\n",
            "      <seekvideo id=\"614824\">Anyway --</seekvideo>\n",
            "      <seekvideo id=\"616004\">(Laughter)</seekvideo>\n",
            "      <seekvideo id=\"617488\">(Applause)</seekvideo>\n",
            "      <seekvideo id=\"622431\">OK. Katrina.</seekvideo>\n",
            "      <seekvideo id=\"625884\">Prior to Katrina, the South Bronx and New Orleans' Ninth Ward</seekvideo>\n",
            "      <seekvideo id=\"628932\">had a lot in common.</seekvideo>\n",
            "      <seekvideo id=\"630145\">Both were largely populated by poor people of color,</seekvideo>\n",
            "      <seekvideo id=\"632923\">both hotbeds of cultural innovation: think hip-hop and jazz.</seekvideo>\n",
            "      <seekvideo id=\"636242\">Both are waterfront communities that host both industries and residents</seekvideo>\n",
            "      <seekvideo id=\"639600\">in close proximity of one another.</seekvideo>\n",
            "      <seekvideo id=\"641510\">In the post-Katrina era, we have still more in common.</seekvideo>\n",
            "      <seekvideo id=\"644582\">We're at best ignored, and maligned and abused, at worst,</seekvideo>\n",
            "      <seekvideo id=\"648084\">by negligent regulatory agencies, pernicious zoning</seekvideo>\n",
            "      <seekvideo id=\"651455\">and lax governmental accountability.</seekvideo>\n",
            "      <seekvideo id=\"653652\">Neither the destruction of the Ninth Ward nor the South Bronx was inevitable.</seekvideo>\n",
            "      <seekvideo id=\"658104\">But we have emerged with valuable lessons</seekvideo>\n",
            "      <seekvideo id=\"660264\">about how to dig ourselves out.</seekvideo>\n",
            "      <seekvideo id=\"662561\">We are more than simply national symbols of urban blight</seekvideo>\n",
            "      <seekvideo id=\"666387\">or problems to be solved by empty campaign promises</seekvideo>\n",
            "      <seekvideo id=\"669717\">of presidents come and gone.</seekvideo>\n",
            "      <seekvideo id=\"671351\">Now will we let the Gulf Coast languish for a decade or two,</seekvideo>\n",
            "      <seekvideo id=\"674194\">like the South Bronx did?</seekvideo>\n",
            "      <seekvideo id=\"675480\">Or will we take proactive steps</seekvideo>\n",
            "      <seekvideo id=\"676988\">and learn from the homegrown resource of grassroots activists</seekvideo>\n",
            "      <seekvideo id=\"679949\">that have been born of desperation in communities like mine?</seekvideo>\n",
            "      <seekvideo id=\"682819\">Now listen, I do not expect individuals,</seekvideo>\n",
            "      <seekvideo id=\"685486\">corporations or government to make the world a better place</seekvideo>\n",
            "      <seekvideo id=\"688295\">because it is right or moral.</seekvideo>\n",
            "      <seekvideo id=\"690596\">This presentation today only represents some of what I've been through.</seekvideo>\n",
            "      <seekvideo id=\"694900\">Like a tiny little bit. You've no clue.</seekvideo>\n",
            "      <seekvideo id=\"697000\">But I'll tell you later, if you want to know.</seekvideo>\n",
            "      <seekvideo id=\"699120\">(Laughter)</seekvideo>\n",
            "      <seekvideo id=\"700209\">But -- I know it's the bottom line, or one's perception of it,</seekvideo>\n",
            "      <seekvideo id=\"704523\">that motivates people in the end.</seekvideo>\n",
            "      <seekvideo id=\"706283\">I'm interested in what I like to call the \"triple bottom line\"</seekvideo>\n",
            "      <seekvideo id=\"709229\">that sustainable development can produce.</seekvideo>\n",
            "      <seekvideo id=\"711477\">Developments that have the potential to create positive returns</seekvideo>\n",
            "      <seekvideo id=\"715423\">for all concerned: the developers, government</seekvideo>\n",
            "      <seekvideo id=\"718549\">and the community where these projects go up.</seekvideo>\n",
            "      <seekvideo id=\"721009\">At present, that's not happening in New York City.</seekvideo>\n",
            "      <seekvideo id=\"724311\">And we are operating with a comprehensive urban-planning deficit.</seekvideo>\n",
            "      <seekvideo id=\"728358\">A parade of government subsidies</seekvideo>\n",
            "      <seekvideo id=\"730477\">is going to propose big-box and stadium developments in the South Bronx,</seekvideo>\n",
            "      <seekvideo id=\"734053\">but there is scant coordination between city agencies</seekvideo>\n",
            "      <seekvideo id=\"737160\">on how to deal with the cumulative effects of increased traffic, pollution,</seekvideo>\n",
            "      <seekvideo id=\"740934\">solid waste and the impacts on open space.</seekvideo>\n",
            "      <seekvideo id=\"743483\">And their approaches to local economic and job development are so lame</seekvideo>\n",
            "      <seekvideo id=\"747887\">it's not even funny.</seekvideo>\n",
            "      <seekvideo id=\"749082\">Because on top of that,</seekvideo>\n",
            "      <seekvideo id=\"751305\">the world's richest sports team is replacing the House That Ruth Built</seekvideo>\n",
            "      <seekvideo id=\"755752\">by destroying two well-loved community parks.</seekvideo>\n",
            "      <seekvideo id=\"758593\">Now, we'll have even less than that stat I told you about earlier.</seekvideo>\n",
            "      <seekvideo id=\"761728\">And although less than 25 percent of South Bronx residents own cars,</seekvideo>\n",
            "      <seekvideo id=\"765070\">these projects include thousands of new parking spaces,</seekvideo>\n",
            "      <seekvideo id=\"768768\">yet zip in terms of mass public transit.</seekvideo>\n",
            "      <seekvideo id=\"772046\">Now, what's missing from the larger debate</seekvideo>\n",
            "      <seekvideo id=\"774102\">is a comprehensive cost-benefit analysis</seekvideo>\n",
            "      <seekvideo id=\"776055\">between not fixing an unhealthy, environmentally-challenged community,</seekvideo>\n",
            "      <seekvideo id=\"779478\">versus incorporating structural, sustainable changes.</seekvideo>\n",
            "      <seekvideo id=\"783109\">My agency is working closely with Columbia University and others</seekvideo>\n",
            "      <seekvideo id=\"786364\">to shine a light on these issues.</seekvideo>\n",
            "      <seekvideo id=\"787974\">Now let's get this straight: I am not anti-development.</seekvideo>\n",
            "      <seekvideo id=\"791197\">Ours is a city, not a wilderness preserve.</seekvideo>\n",
            "      <seekvideo id=\"793629\">And I've embraced my inner capitalist.</seekvideo>\n",
            "      <seekvideo id=\"796692\">And, but I don't have --</seekvideo>\n",
            "      <seekvideo id=\"798193\">(Laughter)</seekvideo>\n",
            "      <seekvideo id=\"799842\">You probably all have, and if you haven't, you need to.</seekvideo>\n",
            "      <seekvideo id=\"802462\">(Laughter)</seekvideo>\n",
            "      <seekvideo id=\"806256\">So I don't have a problem with developers making money.</seekvideo>\n",
            "      <seekvideo id=\"809696\">There's enough precedent out there to show that a sustainable,</seekvideo>\n",
            "      <seekvideo id=\"812670\">community-friendly development can still make a fortune.</seekvideo>\n",
            "      <seekvideo id=\"817085\">Fellow TEDsters Bill McDonough and Amory Lovins --</seekvideo>\n",
            "      <seekvideo id=\"820181\">both heroes of mine by the way -- have shown that you can actually do that.</seekvideo>\n",
            "      <seekvideo id=\"824174\">I do have a problem with developments that hyper-exploit</seekvideo>\n",
            "      <seekvideo id=\"827000\">politically vulnerable communities for profit.</seekvideo>\n",
            "      <seekvideo id=\"829191\">That it continues is a shame upon us all,</seekvideo>\n",
            "      <seekvideo id=\"832063\">because we are all responsible for the future that we create.</seekvideo>\n",
            "      <seekvideo id=\"835028\">But one of the things I do to remind myself of greater possibilities,</seekvideo>\n",
            "      <seekvideo id=\"838299\">is to learn from visionaries in other cities.</seekvideo>\n",
            "      <seekvideo id=\"840457\">This is my version of globalization.</seekvideo>\n",
            "      <seekvideo id=\"842513\">Let's take Bogota.</seekvideo>\n",
            "      <seekvideo id=\"844070\">Poor, Latino, surrounded by runaway gun violence and drug trafficking;</seekvideo>\n",
            "      <seekvideo id=\"847887\">a reputation not unlike that of the South Bronx.</seekvideo>\n",
            "      <seekvideo id=\"850749\">However, this city was blessed in the late 1990s</seekvideo>\n",
            "      <seekvideo id=\"854000\">with a highly-influential mayor named Enrique Peñalosa.</seekvideo>\n",
            "      <seekvideo id=\"858048\">He looked at the demographics.</seekvideo>\n",
            "      <seekvideo id=\"859853\">Few Bogotanos own cars,</seekvideo>\n",
            "      <seekvideo id=\"861608\">yet a huge portion of the city's resources was dedicated to serving them.</seekvideo>\n",
            "      <seekvideo id=\"865670\">If you're a mayor, you can do something about that.</seekvideo>\n",
            "      <seekvideo id=\"868079\">His administration narrowed key municipal thoroughfares from five lanes to three,</seekvideo>\n",
            "      <seekvideo id=\"872359\">outlawed parking on those streets,</seekvideo>\n",
            "      <seekvideo id=\"874646\">expanded pedestrian walkways and bike lanes,</seekvideo>\n",
            "      <seekvideo id=\"877449\">created public plazas,</seekvideo>\n",
            "      <seekvideo id=\"879404\">created one of the most efficient bus mass-transit systems</seekvideo>\n",
            "      <seekvideo id=\"882295\">in the entire world.</seekvideo>\n",
            "      <seekvideo id=\"883801\">For his brilliant efforts, he was nearly impeached.</seekvideo>\n",
            "      <seekvideo id=\"888186\">But as people began to see that they were being put first</seekvideo>\n",
            "      <seekvideo id=\"891916\">on issues reflecting their day-to-day lives,</seekvideo>\n",
            "      <seekvideo id=\"894150\">incredible things happened.</seekvideo>\n",
            "      <seekvideo id=\"895505\">People stopped littering.</seekvideo>\n",
            "      <seekvideo id=\"896921\">Crime rates dropped, because the streets were alive with people.</seekvideo>\n",
            "      <seekvideo id=\"900830\">His administration attacked several typical urban problems at one time,</seekvideo>\n",
            "      <seekvideo id=\"904733\">and on a third-world budget, at that.</seekvideo>\n",
            "      <seekvideo id=\"906868\">We have no excuse in this country, I'm sorry.</seekvideo>\n",
            "      <seekvideo id=\"909591\">But the bottom line is: their people-first agenda</seekvideo>\n",
            "      <seekvideo id=\"912456\">was not meant to penalize those who could actually afford cars,</seekvideo>\n",
            "      <seekvideo id=\"916394\">but rather, to provide opportunities for all Bogotanos to participate</seekvideo>\n",
            "      <seekvideo id=\"920283\">in the city's resurgence.</seekvideo>\n",
            "      <seekvideo id=\"921929\">That development should not come</seekvideo>\n",
            "      <seekvideo id=\"924113\">at the expense of the majority of the population</seekvideo>\n",
            "      <seekvideo id=\"926724\">is still considered a radical idea here in the U.S.</seekvideo>\n",
            "      <seekvideo id=\"929518\">But Bogota's example has the power to change that.</seekvideo>\n",
            "      <seekvideo id=\"932327\">You, however, are blessed with the gift of influence.</seekvideo>\n",
            "      <seekvideo id=\"935844\">That's why you're here and why you value the information we exchange.</seekvideo>\n",
            "      <seekvideo id=\"939590\">Use your influence</seekvideo>\n",
            "      <seekvideo id=\"940964\">in support of comprehensive, sustainable change everywhere.</seekvideo>\n",
            "      <seekvideo id=\"944567\">Don't just talk about it at TED.</seekvideo>\n",
            "      <seekvideo id=\"946985\">This is a nationwide policy agenda I'm trying to build,</seekvideo>\n",
            "      <seekvideo id=\"951119\">and as you all know, politics are personal.</seekvideo>\n",
            "      <seekvideo id=\"954118\">Help me make green the new black.</seekvideo>\n",
            "      <seekvideo id=\"956592\">Help me make sustainability sexy.</seekvideo>\n",
            "      <seekvideo id=\"958753\">Make it a part of your dinner and cocktail conversations.</seekvideo>\n",
            "      <seekvideo id=\"962174\">Help me fight for environmental and economic justice.</seekvideo>\n",
            "      <seekvideo id=\"965301\">Support investments with a triple-bottom-line return.</seekvideo>\n",
            "      <seekvideo id=\"968000\">Help me democratize sustainability by bringing everyone to the table,</seekvideo>\n",
            "      <seekvideo id=\"972564\">and insisting that comprehensive planning can be addressed everywhere.</seekvideo>\n",
            "      <seekvideo id=\"975937\">Oh good, glad I have a little more time!</seekvideo>\n",
            "      <seekvideo id=\"977869\">Listen -- when I spoke to Mr. Gore the other day after breakfast,</seekvideo>\n",
            "      <seekvideo id=\"981838\">I asked him how environmental justice activists were going to be included</seekvideo>\n",
            "      <seekvideo id=\"986610\">in his new marketing strategy.</seekvideo>\n",
            "      <seekvideo id=\"988860\">His response was a grant program.</seekvideo>\n",
            "      <seekvideo id=\"992692\">I don't think he understood that I wasn't asking for funding.</seekvideo>\n",
            "      <seekvideo id=\"998736\">I was making him an offer.</seekvideo>\n",
            "      <seekvideo id=\"1002233\">(Applause)</seekvideo>\n",
            "      <seekvideo id=\"1009983\">What troubled me was that this top-down approach is still around.</seekvideo>\n",
            "      <seekvideo id=\"1015260\">Now, don't get me wrong, we need money.</seekvideo>\n",
            "      <seekvideo id=\"1017174\">(Laughter)</seekvideo>\n",
            "      <seekvideo id=\"1018610\">But grassroots groups are needed at the table</seekvideo>\n",
            "      <seekvideo id=\"1022741\">during the decision-making process.</seekvideo>\n",
            "      <seekvideo id=\"1025583\">Of the 90 percent of the energy that Mr. Gore reminded us</seekvideo>\n",
            "      <seekvideo id=\"1029651\">that we waste every day,</seekvideo>\n",
            "      <seekvideo id=\"1031097\">don't add wasting our energy, intelligence</seekvideo>\n",
            "      <seekvideo id=\"1034291\">and hard-earned experience to that count.</seekvideo>\n",
            "      <seekvideo id=\"1038158\">(Applause)</seekvideo>\n",
            "      <seekvideo id=\"1043645\">I have come from so far to meet you like this.</seekvideo>\n",
            "      <seekvideo id=\"1051436\">Please don't waste me.</seekvideo>\n",
            "      <seekvideo id=\"1055628\">By working together,</seekvideo>\n",
            "      <seekvideo id=\"1056806\">we can become one of those small, rapidly-growing groups of individuals</seekvideo>\n",
            "      <seekvideo id=\"1061808\">who actually have the audacity and courage</seekvideo>\n",
            "      <seekvideo id=\"1064039\">to believe that we actually can change the world.</seekvideo>\n",
            "      <seekvideo id=\"1067238\">We might have come to this conference</seekvideo>\n",
            "      <seekvideo id=\"1069032\">from very, very different stations in life,</seekvideo>\n",
            "      <seekvideo id=\"1071588\">but believe me, we all share one incredibly powerful thing.</seekvideo>\n",
            "      <seekvideo id=\"1078517\">We have nothing to lose and everything to gain.</seekvideo>\n",
            "      <seekvideo id=\"1083675\">Ciao, bellos!</seekvideo>\n",
            "      <seekvideo id=\"1084875\">(Applause)</seekvideo>\n",
            "    </transcription>\n",
            "    <wordnum>3071</wordnum>\n",
            "    <charnum>18322</charnum>\n",
            "  </head>\n",
            "  <content>If you're here today -- and I'm very happy that you are -- you've all heard about how sustainable development will save us from ourselves. However, when we're not at TED, we are often told that a real sustainability policy agenda is just not feasible, especially in large urban areas like New York City. And that's because most people with decision-making powers, in both the public and the private sector, really don't feel as though they're in danger.\n",
            "The reason why I'm here today, in part, is because of a dog -- an abandoned puppy I found back in the rain, back in 1998. She turned out to be a much bigger dog than I'd anticipated. When she came into my life, we were fighting against a huge waste facility planned for the East River waterfront despite the fact that our small part of New York City already handled more than 40 percent of the entire city's commercial waste: a sewage treatment pelletizing plant, a sewage sludge plant, four power plants, the world's largest food-distribution center, as well as other industries that bring more than 60,000 diesel truck trips to the area each week. The area also has one of the lowest ratios of parks to people in the city.\n",
            "So when I was contacted by the Parks Department about a $10,000 seed-grant initiative to help develop waterfront projects, I thought they were really well-meaning, but a bit naive. I'd lived in this area all my life, and you could not get to the river, because of all the lovely facilities that I mentioned earlier. Then, while jogging with my dog one morning, she pulled me into what I thought was just another illegal dump. There were weeds and piles of garbage and other stuff that I won't mention here, but she kept dragging me, and lo and behold, at the end of that lot was the river. I knew that this forgotten little street-end, abandoned like the dog that brought me there, was worth saving. And I knew it would grow to become the proud beginnings of the community-led revitalization of the new South Bronx.\n",
            "And just like my new dog, it was an idea that got bigger than I'd imagined. We garnered much support along the way, and the Hunts Point Riverside Park became the first waterfront park that the South Bronx had had in more than 60 years. We leveraged that $10,000 seed grant more than 300 times, into a $3 million park.\n",
            "And in the fall, I'm going to exchange marriage vows with my beloved.\n",
            "(Audience whistles)\n",
            "Thank you very much.\n",
            "(Applause)\n",
            "That's him pressing my buttons back there, which he does all the time.\n",
            "(Laughter)\n",
            "(Applause)\n",
            "But those of us living in environmental justice communities are the canary in the coal mine. We feel the problems right now, and have for some time. Environmental justice, for those of you who may not be familiar with the term, goes something like this: no community should be saddled with more environmental burdens and less environmental benefits than any other.\n",
            "Unfortunately, race and class are extremely reliable indicators as to where one might find the good stuff, like parks and trees, and where one might find the bad stuff, like power plants and waste facilities. As a black person in America, I am twice as likely as a white person to live in an area where air pollution poses the greatest risk to my health. I am five times more likely to live within walking distance of a power plant or chemical facility, which I do. These land-use decisions created the hostile conditions that lead to problems like obesity, diabetes and asthma. Why would someone leave their home to go for a brisk walk in a toxic neighborhood? Our 27 percent obesity rate is high even for this country, and diabetes comes with it. One out of four South Bronx children has asthma. Our asthma hospitalization rate is seven times higher than the national average. These impacts are coming everyone's way. And we all pay dearly for solid waste costs, health problems associated with pollution and more odiously, the cost of imprisoning our young black and Latino men, who possess untold amounts of untapped potential. Fifty percent of our residents live at or below the poverty line; 25 percent of us are unemployed. Low-income citizens often use emergency-room visits as primary care. This comes at a high cost to taxpayers and produces no proportional benefits. Poor people are not only still poor, they are still unhealthy.\n",
            "Fortunately, there are many people like me who are striving for solutions that won't compromise the lives of low-income communities of color in the short term, and won't destroy us all in the long term. None of us want that, and we all have that in common. So what else do we have in common?\n",
            "Well, first of all, we're all incredibly good-looking.\n",
            "(Laughter)\n",
            "Graduated high school, college, post-graduate degrees, traveled to interesting places, didn't have kids in your early teens, financially stable, never been imprisoned. OK. Good.\n",
            "(Laughter)\n",
            "But, besides being a black woman, I am different from most of you in some other ways. I watched nearly half of the buildings in my neighborhood burn down. My big brother Lenny fought in Vietnam, only to be gunned down a few blocks from our home. Jesus. I grew up with a crack house across the street. Yeah, I'm a poor black child from the ghetto. These things make me different from you. But the things we have in common set me apart from most of the people in my community, and I am in between these two worlds with enough of my heart to fight for justice in the other.\n",
            "So how did things get so different for us? In the late '40s, my dad -- a Pullman porter, son of a slave -- bought a house in the Hunts Point section of the South Bronx, and a few years later, he married my mom. At the time, the community was a mostly white, working-class neighborhood. My dad was not alone. And as others like him pursued their own version of the American dream, white flight became common in the South Bronx and in many cities around the country. Red-lining was used by banks, wherein certain sections of the city, including ours, were deemed off-limits to any sort of investment. Many landlords believed it was more profitable to torch their buildings and collect insurance money rather than to sell under those conditions -- dead or injured former tenants notwithstanding.\n",
            "Hunts Point was formerly a walk-to-work community, but now residents had neither work nor home to walk to. A national highway construction boom was added to our problems. In New York State, Robert Moses spearheaded an aggressive highway-expansion campaign. One of its primary goals was to make it easier for residents of wealthy communities in Westchester County to go to Manhattan. The South Bronx, which lies in between, did not stand a chance. Residents were often given less than a month's notice before their buildings were razed. 600,000 people were displaced. The common perception was that only pimps and pushers and prostitutes were from the South Bronx. And if you are told from your earliest days that nothing good is going to come from your community, that it's bad and ugly, how could it not reflect on you? So now, my family's property was worthless, save for that it was our home, and all we had. And luckily for me, that home and the love inside of it, along with help from teachers, mentors and friends along the way, was enough.\n",
            "Now, why is this story important? Because from a planning perspective, economic degradation begets environmental degradation, which begets social degradation. The disinvestment that began in the 1960s set the stage for all the environmental injustices that were to come. Antiquated zoning and land-use regulations are still used to this day to continue putting polluting facilities in my neighborhood. Are these factors taken into consideration when land-use policy is decided? What costs are associated with these decisions? And who pays? Who profits? Does anything justify what the local community goes through? This was \"planning\" -- in quotes -- that did not have our best interests in mind.\n",
            "Once we realized that, we decided it was time to do our own planning. That small park I told you about earlier was the first stage of building a Greenway movement in the South Bronx. I wrote a one-and-a-quarter-million dollar federal transportation grant to design the plan for a waterfront esplanade with dedicated on-street bike paths. Physical improvements help inform public policy regarding traffic safety, the placement of the waste and other facilities, which, if done properly, don't compromise a community's quality of life. They provide opportunities to be more physically active, as well as local economic development. Think bike shops, juice stands. We secured 20 million dollars to build first-phase projects. This is Lafayette Avenue -- and that's redesigned by Mathews Nielsen Landscape Architects. And once this path is constructed, it'll connect the South Bronx with more than 400 acres of Randall's Island Park. Right now we're separated by about 25 feet of water, but this link will change that.\n",
            "As we nurture the natural environment, its abundance will give us back even more. We run a project called the Bronx [Environmental] Stewardship Training, which provides job training in the fields of ecological restoration, so that folks from our community have the skills to compete for these well-paying jobs. Little by little, we're seeding the area with green-collar jobs -- and with people that have both a financial and personal stake in their environment. The Sheridan Expressway is an underutilized relic of the Robert Moses era, built with no regard for the neighborhoods that were divided by it. Even during rush hour, it goes virtually unused. The community created an alternative transportation plan that allows for the removal of the highway. We have the opportunity now to bring together all the stakeholders to re-envision how this 28 acres can be better utilized for parkland, affordable housing and local economic development.\n",
            "We also built New York City's first green and cool roof demonstration project on top of our offices. Cool roofs are highly-reflective surfaces that don't absorb solar heat, and pass it on to the building or atmosphere. Green roofs are soil and living plants. Both can be used instead of petroleum-based roofing materials that absorb heat, contribute to urban \"heat island\" effect and degrade under the sun, which we in turn breathe. Green roofs also retain up to 75 percent of rainfall, so they reduce a city's need to fund costly end-of-pipe solutions -- which, incidentally, are often located in environmental justice communities like mine. And they provide habitats for our little friends!\n",
            "[Butterfly]\n",
            "(Laughter)\n",
            "So cool!\n",
            "Anyway, the demonstration project is a springboard for our own green roof installation business, bringing jobs and sustainable economic activity to the South Bronx.\n",
            "[Green is the new black ...]\n",
            "(Laughter) (Applause)\n",
            "I like that, too.\n",
            "Anyway, I know Chris told us not to do pitches up here, but since I have all of your attention: We need investors. End of pitch. It's better to ask for forgiveness than permission. Anyway --\n",
            "(Laughter)\n",
            "(Applause)\n",
            "OK. Katrina.\n",
            "Prior to Katrina, the South Bronx and New Orleans' Ninth Ward had a lot in common. Both were largely populated by poor people of color, both hotbeds of cultural innovation: think hip-hop and jazz. Both are waterfront communities that host both industries and residents in close proximity of one another. In the post-Katrina era, we have still more in common. We're at best ignored, and maligned and abused, at worst, by negligent regulatory agencies, pernicious zoning and lax governmental accountability. Neither the destruction of the Ninth Ward nor the South Bronx was inevitable. But we have emerged with valuable lessons about how to dig ourselves out. We are more than simply national symbols of urban blight or problems to be solved by empty campaign promises of presidents come and gone. Now will we let the Gulf Coast languish for a decade or two, like the South Bronx did? Or will we take proactive steps and learn from the homegrown resource of grassroots activists that have been born of desperation in communities like mine?\n",
            "Now listen, I do not expect individuals, corporations or government to make the world a better place because it is right or moral. This presentation today only represents some of what I've been through. Like a tiny little bit. You've no clue. But I'll tell you later, if you want to know.\n",
            "(Laughter)\n",
            "But -- I know it's the bottom line, or one's perception of it, that motivates people in the end. I'm interested in what I like to call the \"triple bottom line\" that sustainable development can produce. Developments that have the potential to create positive returns for all concerned: the developers, government and the community where these projects go up.\n",
            "At present, that's not happening in New York City. And we are operating with a comprehensive urban-planning deficit. A parade of government subsidies is going to propose big-box and stadium developments in the South Bronx, but there is scant coordination between city agencies on how to deal with the cumulative effects of increased traffic, pollution, solid waste and the impacts on open space. And their approaches to local economic and job development are so lame it's not even funny. Because on top of that, the world's richest sports team is replacing the House That Ruth Built by destroying two well-loved community parks. Now, we'll have even less than that stat I told you about earlier. And although less than 25 percent of South Bronx residents own cars, these projects include thousands of new parking spaces, yet zip in terms of mass public transit. Now, what's missing from the larger debate is a comprehensive cost-benefit analysis between not fixing an unhealthy, environmentally-challenged community, versus incorporating structural, sustainable changes. My agency is working closely with Columbia University and others to shine a light on these issues.\n",
            "Now let's get this straight: I am not anti-development. Ours is a city, not a wilderness preserve. And I've embraced my inner capitalist. And, but I don't have --\n",
            "(Laughter)\n",
            "You probably all have, and if you haven't, you need to.\n",
            "(Laughter)\n",
            "So I don't have a problem with developers making money. There's enough precedent out there to show that a sustainable, community-friendly development can still make a fortune. Fellow TEDsters Bill McDonough and Amory Lovins -- both heroes of mine by the way -- have shown that you can actually do that. I do have a problem with developments that hyper-exploit politically vulnerable communities for profit. That it continues is a shame upon us all, because we are all responsible for the future that we create. But one of the things I do to remind myself of greater possibilities, is to learn from visionaries in other cities. This is my version of globalization.\n",
            "Let's take Bogota. Poor, Latino, surrounded by runaway gun violence and drug trafficking; a reputation not unlike that of the South Bronx. However, this city was blessed in the late 1990s with a highly-influential mayor named Enrique Peñalosa. He looked at the demographics. Few Bogotanos own cars, yet a huge portion of the city's resources was dedicated to serving them. If you're a mayor, you can do something about that. His administration narrowed key municipal thoroughfares from five lanes to three, outlawed parking on those streets, expanded pedestrian walkways and bike lanes, created public plazas, created one of the most efficient bus mass-transit systems in the entire world. For his brilliant efforts, he was nearly impeached. But as people began to see that they were being put first on issues reflecting their day-to-day lives, incredible things happened. People stopped littering. Crime rates dropped, because the streets were alive with people. His administration attacked several typical urban problems at one time, and on a third-world budget, at that. We have no excuse in this country, I'm sorry. But the bottom line is: their people-first agenda was not meant to penalize those who could actually afford cars, but rather, to provide opportunities for all Bogotanos to participate in the city's resurgence. That development should not come at the expense of the majority of the population is still considered a radical idea here in the U.S. But Bogota's example has the power to change that.\n",
            "You, however, are blessed with the gift of influence. That's why you're here and why you value the information we exchange. Use your influence in support of comprehensive, sustainable change everywhere. Don't just talk about it at TED. This is a nationwide policy agenda I'm trying to build, and as you all know, politics are personal. Help me make green the new black. Help me make sustainability sexy. Make it a part of your dinner and cocktail conversations. Help me fight for environmental and economic justice. Support investments with a triple-bottom-line return. Help me democratize sustainability by bringing everyone to the table, and insisting that comprehensive planning can be addressed everywhere. Oh good, glad I have a little more time!\n",
            "Listen -- when I spoke to Mr. Gore the other day after breakfast, I asked him how environmental justice activists were going to be included in his new marketing strategy. His response was a grant program. I don't think he understood that I wasn't asking for funding. I was making him an offer.\n",
            "(Applause)\n",
            "What troubled me was that this top-down approach is still around. Now, don't get me wrong, we need money.\n",
            "(Laughter)\n",
            "But grassroots groups are needed at the table during the decision-making process. Of the 90 percent of the energy that Mr. Gore reminded us that we waste every day, don't add wasting our energy, intelligence and hard-earned experience to that count.\n",
            "(Applause)\n",
            "I have come from so far to meet you like this. Please don't waste me. By working together, we can become one of those small, rapidly-growing groups of individuals who actually have the audacity and courage to believe that we actually can change the world. We might have come to this conference from very, very different stations in life, but believe me, we all share one incredibly powerful thing. We have nothing to lose and everything to gain.\n",
            "Ciao, bellos!\n",
            "(Applause)</content>\n",
            "</file>\n",
            "</xml>"
          ],
          "name": "stdout"
        }
      ]
    },
    {
      "cell_type": "code",
      "metadata": {
        "colab": {
          "base_uri": "https://localhost:8080/"
        },
        "id": "CYloczDrwjRK",
        "outputId": "7883c369-842e-48a7-9b57-363bbd34f02c"
      },
      "source": [
        "re_text = 'test(test11)--eef---(test11112)11111'\n",
        "re_text1 = 'test<test11>'\n",
        "print(re.sub(r'\\<[^)]*\\>', '', re_text1))\n",
        "\n"
      ],
      "execution_count": null,
      "outputs": [
        {
          "output_type": "stream",
          "text": [
            "test\n"
          ],
          "name": "stdout"
        }
      ]
    },
    {
      "cell_type": "code",
      "metadata": {
        "id": "CvvkSS3hi77s"
      },
      "source": [
        "targetXML=open('ted_en-20160408.xml', 'r', encoding='UTF8')\n",
        "target_text = etree.parse(targetXML)\n",
        "\n",
        "\n",
        "# xml 파일로부터 <content>와 </content> 사이의 내용만 가져온다.\n",
        "parse_text = '\\n'.join(target_text.xpath('//content/text()'))\n",
        "\n",
        "# 정규 표현식의 sub 모듈을 통해 content 중간에 등장하는 (Audio), (Laughter) 등의 배경음 부분을 제거.\n",
        "# 해당 코드는 괄호로 구성된 내용을 제거.\n",
        "content_text = re.sub(r'\\([^)]*\\)', '', parse_text)\n",
        "\n",
        "\n",
        "# 입력 코퍼스에 대해서 NLTK를 이용하여 문장 토큰화를 수행.\n",
        "sent_text = sent_tokenize(content_text)\n",
        "\n",
        "# 각 문장에 대해서 구두점을 제거하고, 대문자를 소문자로 변환.\n",
        "normalized_text = []\n",
        "for string in sent_text:\n",
        "     tokens = re.sub(r\"[^a-z0-9]+\", \" \", string.lower())\n",
        "     normalized_text.append(tokens)\n",
        "\n",
        "# 각 문장에 대해서 NLTK를 이용하여 단어 토큰화를 수행.\n",
        "result = [word_tokenize(sentence) for sentence in normalized_text]"
      ],
      "execution_count": null,
      "outputs": []
    },
    {
      "cell_type": "code",
      "metadata": {
        "colab": {
          "base_uri": "https://localhost:8080/"
        },
        "id": "DijSnOcFkCmW",
        "outputId": "b44de0b8-ab46-409a-f21f-5a94b5708ce4"
      },
      "source": [
        "print('총 샘플의 개수 : {}'.format(len(result)))"
      ],
      "execution_count": null,
      "outputs": [
        {
          "output_type": "stream",
          "text": [
            "총 샘플의 개수 : 273424\n"
          ],
          "name": "stdout"
        }
      ]
    },
    {
      "cell_type": "code",
      "metadata": {
        "colab": {
          "base_uri": "https://localhost:8080/"
        },
        "id": "qTN7Cz-6kIa9",
        "outputId": "9eacd8d5-ea79-4578-8562-1543fe9f51b8"
      },
      "source": [
        "# 샘플 3개만 출력\n",
        "for line in result[:3]:\n",
        "    print(line)"
      ],
      "execution_count": null,
      "outputs": [
        {
          "output_type": "stream",
          "text": [
            "['here', 'are', 'two', 'reasons', 'companies', 'fail', 'they', 'only', 'do', 'more', 'of', 'the', 'same', 'or', 'they', 'only', 'do', 'what', 's', 'new']\n",
            "['to', 'me', 'the', 'real', 'real', 'solution', 'to', 'quality', 'growth', 'is', 'figuring', 'out', 'the', 'balance', 'between', 'two', 'activities', 'exploration', 'and', 'exploitation']\n",
            "['both', 'are', 'necessary', 'but', 'it', 'can', 'be', 'too', 'much', 'of', 'a', 'good', 'thing']\n"
          ],
          "name": "stdout"
        }
      ]
    },
    {
      "cell_type": "markdown",
      "metadata": {
        "id": "NPHyT10KpMpw"
      },
      "source": [
        "**Word2Vec 훈련 시키기**"
      ]
    },
    {
      "cell_type": "code",
      "metadata": {
        "id": "7apdFxWEqhfu"
      },
      "source": [
        "from gensim.models import Word2Vec\n",
        "# size = 워드 벡터의 특징 값. 즉, 임베딩 된 벡터의 차원.window = 컨텍스트 윈도우 크기 min_count = 단어 최소 빈도 수 제한 (빈도가 적은 단어들은 학습하지 않는다.), workers = 학습을 위한 프로세스 수, sg = 0은 CBOW, 1은 Skip-gram.\n",
        "model = Word2Vec(sentences=result, size=100, window=5, min_count=5, workers=4, sg=0)     \n"
      ],
      "execution_count": null,
      "outputs": []
    },
    {
      "cell_type": "code",
      "metadata": {
        "colab": {
          "base_uri": "https://localhost:8080/"
        },
        "id": "_DWDFkrkx2PC",
        "outputId": "90f1ddc4-0879-47e3-ad46-17603e7b67e8"
      },
      "source": [
        "model_result = model.wv.most_similar(\"man\")\n",
        "print(model_result)"
      ],
      "execution_count": null,
      "outputs": [
        {
          "output_type": "stream",
          "text": [
            "[('woman', 0.8534528017044067), ('guy', 0.8272244930267334), ('lady', 0.7920387983322144), ('gentleman', 0.7750871777534485), ('boy', 0.7747635841369629), ('girl', 0.7562539577484131), ('soldier', 0.7414239048957825), ('friend', 0.7095862627029419), ('kid', 0.7039577960968018), ('rabbi', 0.6680681705474854)]\n"
          ],
          "name": "stdout"
        }
      ]
    },
    {
      "cell_type": "markdown",
      "metadata": {
        "id": "DoYISbuOyRWz"
      },
      "source": [
        "**Word2Vec 모델 저장하고 로드하기**"
      ]
    },
    {
      "cell_type": "code",
      "metadata": {
        "id": "g1YiCGBtyVMX",
        "colab": {
          "base_uri": "https://localhost:8080/"
        },
        "outputId": "761d1c01-620f-451b-dbdd-387a69269183"
      },
      "source": [
        "from gensim.models import KeyedVectors\n",
        "model.wv.save_word2vec_format('eng_word2vec') # 모델 저장\n",
        "!ls\n",
        "loaded_model = KeyedVectors.load_word2vec_format(\"eng_word2vec\") # 모델 로드"
      ],
      "execution_count": null,
      "outputs": [
        {
          "output_type": "stream",
          "text": [
            "eng_word2vec  sample_data  ted_en-20160408.xml\n"
          ],
          "name": "stdout"
        }
      ]
    },
    {
      "cell_type": "code",
      "metadata": {
        "id": "-ChDN1FFyY_P",
        "colab": {
          "base_uri": "https://localhost:8080/"
        },
        "outputId": "e9eb720a-573d-4efe-c1de-b2622374ff9b"
      },
      "source": [
        "model_result = loaded_model.most_similar(\"dog\")\n",
        "print(model_result)"
      ],
      "execution_count": null,
      "outputs": [
        {
          "output_type": "stream",
          "text": [
            "[('cat', 0.8234075903892517), ('chair', 0.783019483089447), ('leg', 0.7752771377563477), ('doctor', 0.7723519802093506), ('seat', 0.7428040504455566), ('mom', 0.7426984906196594), ('nose', 0.7401458024978638), ('pen', 0.7302069067955017), ('uncle', 0.7286360263824463), ('card', 0.7236413955688477)]\n"
          ],
          "name": "stdout"
        }
      ]
    }
  ]
}